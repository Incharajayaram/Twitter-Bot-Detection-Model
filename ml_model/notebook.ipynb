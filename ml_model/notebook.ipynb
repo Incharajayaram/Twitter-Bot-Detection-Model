{
 "cells": [
  {
   "cell_type": "code",
   "execution_count": 2,
   "metadata": {},
   "outputs": [
    {
     "name": "stdout",
     "output_type": "stream",
     "text": [
      "Loading label data...\n",
      "Loading edge data...\n",
      "Processing edges...\n"
     ]
    },
    {
     "name": "stderr",
     "output_type": "stream",
     "text": [
      "Processing edge chunks: 171it [09:58,  3.50s/it]\n"
     ]
    },
    {
     "name": "stdout",
     "output_type": "stream",
     "text": [
      "Graph Data Object: Data(edge_index=[2, 3745300], y=[1000000])\n",
      "Number of nodes: 996093\n",
      "Number of edges: 3745300\n"
     ]
    },
    {
     "name": "stderr",
     "output_type": "stream",
     "text": [
      "d:\\Twitter-Bot-Detection-Model\\venv\\lib\\site-packages\\torch_geometric\\data\\storage.py:452: UserWarning: Unable to accurately infer 'num_nodes' from the attribute set '{'y', 'edge_index'}'. Please explicitly set 'num_nodes' as an attribute of 'data' to suppress this warning\n",
      "  warnings.warn(\n"
     ]
    }
   ],
   "source": [
    "import torch\n",
    "from torch_geometric.data import Data\n",
    "import pandas as pd\n",
    "import numpy as np\n",
    "from tqdm import tqdm\n",
    "import dask.dataframe as dd\n",
    "\n",
    "# Load label (node) data\n",
    "print(\"Loading label data...\")\n",
    "label_file = 'D:/Twitter-Bot-Detection-Model/ml_model/dataset/label.csv'\n",
    "labels_df = pd.read_csv(label_file, dtype={'id': 'object', 'label': 'category'})\n",
    "\n",
    "# Convert user IDs to integers more efficiently\n",
    "labels_df['id'] = pd.to_numeric(labels_df['id'].str[1:], errors='coerce')\n",
    "\n",
    "# Create a mapping from old ID to new index using a dictionary comprehension\n",
    "id_to_index = {old_id: new_index for new_index, old_id in enumerate(labels_df['id'])}\n",
    "\n",
    "# Map bot/human labels to binary (bot = 0, human = 1)\n",
    "label_map = {'bot': 0, 'human': 1}\n",
    "labels_df['label'] = labels_df['label'].map(label_map)\n",
    "\n",
    "# Create node labels tensor\n",
    "num_nodes = len(id_to_index)\n",
    "y = torch.zeros(num_nodes, dtype=torch.long)\n",
    "y[labels_df['id'].map(id_to_index)] = torch.tensor(labels_df['label'].values, dtype=torch.long)\n",
    "\n",
    "# Load edge data using pandas for initial processing\n",
    "print(\"Loading edge data...\")\n",
    "edge_file = 'D:/Twitter-Bot-Detection-Model/ml_model/dataset/edge.csv'\n",
    "chunks = pd.read_csv(edge_file, dtype={'source_id': 'object', 'target_id': 'object'}, chunksize=1000000)\n",
    "\n",
    "# Process edges\n",
    "print(\"Processing edges...\")\n",
    "edge_list = []\n",
    "for chunk in tqdm(chunks, desc=\"Processing edge chunks\"):\n",
    "    chunk['source_id'] = pd.to_numeric(chunk['source_id'].str[1:], errors='coerce')\n",
    "    chunk['target_id'] = pd.to_numeric(chunk['target_id'].str[1:], errors='coerce')\n",
    "    \n",
    "    # Filter out rows with NaN values\n",
    "    chunk = chunk.dropna()\n",
    "    \n",
    "    source_indices = chunk['source_id'].map(id_to_index)\n",
    "    target_indices = chunk['target_id'].map(id_to_index)\n",
    "    \n",
    "    # Filter out edges that don't have corresponding nodes\n",
    "    mask = source_indices.notna() & target_indices.notna()\n",
    "    source_indices = source_indices[mask].astype(int)\n",
    "    target_indices = target_indices[mask].astype(int)\n",
    "    \n",
    "    edge_list.append(np.array([source_indices, target_indices]))\n",
    "\n",
    "# Combine edge parts\n",
    "edge_index = np.concatenate(edge_list, axis=1)\n",
    "\n",
    "# Convert to torch tensor\n",
    "edge_index = torch.tensor(edge_index, dtype=torch.long)\n",
    "\n",
    "# Create the PyTorch-Geometric data object\n",
    "data = Data(edge_index=edge_index, y=y)\n",
    "\n",
    "print(f\"Graph Data Object: {data}\")\n",
    "print(f\"Number of nodes: {data.num_nodes}\")\n",
    "print(f\"Number of edges: {data.num_edges}\")"
   ]
  },
  {
   "cell_type": "code",
   "execution_count": null,
   "metadata": {},
   "outputs": [],
   "source": []
  }
 ],
 "metadata": {
  "kernelspec": {
   "display_name": "venv",
   "language": "python",
   "name": "python3"
  },
  "language_info": {
   "codemirror_mode": {
    "name": "ipython",
    "version": 3
   },
   "file_extension": ".py",
   "mimetype": "text/x-python",
   "name": "python",
   "nbconvert_exporter": "python",
   "pygments_lexer": "ipython3",
   "version": "3.10.0"
  }
 },
 "nbformat": 4,
 "nbformat_minor": 2
}
